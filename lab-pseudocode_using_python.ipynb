{
 "cells": [
  {
   "cell_type": "markdown",
   "metadata": {},
   "source": [
    "# LAB | Pseudocode Using Python\n",
    "\n",
    "## Overview\n",
    "\n",
    "This exercise will help you practice writing pseudocode and translating it into Python code. Pseudocode is a way to describe algorithms in a human-readable format, which can then be implemented in programming languages.\n",
    "\n"
   ]
  },
  {
   "cell_type": "markdown",
   "metadata": {},
   "source": [
    "### Exercise 1: Multiply Two Numbers\n",
    "\n",
    "Write a pseudocode to read two numbers and multiply them together. Then, write the equivalent Python code."
   ]
  },
  {
   "cell_type": "markdown",
   "metadata": {},
   "source": [
    "<!-- Add your pseudocode here -->"
   ]
  },
  {
   "cell_type": "code",
   "execution_count": 1,
   "metadata": {},
   "outputs": [
    {
     "name": "stdout",
     "output_type": "stream",
     "text": [
      "The result is: 32.0\n"
     ]
    }
   ],
   "source": [
    "# Pseudo\n",
    "# enter or input number1\n",
    "# enter or input number2\n",
    "# result = number1 * number2\n",
    "# display result\n",
    "\n",
    "# Code\n",
    "# Read two numbers from the user\n",
    "number1 = float(input(\"Enter the first number: \"))\n",
    "number2 = float(input(\"Enter the second number: \"))\n",
    "\n",
    "# Multiply the numbers\n",
    "result = number1 * number2\n",
    "\n",
    "# Display the result\n",
    "print(\"The result is:\", result)\n"
   ]
  },
  {
   "cell_type": "markdown",
   "metadata": {},
   "source": [
    "### Exercise 2: Check Even or Odd\n",
    "\n",
    "Write pseudocode that checks if a number is even or odd and prints the result. Then, write the equivalent Python code."
   ]
  },
  {
   "cell_type": "markdown",
   "metadata": {},
   "source": [
    "<!-- Add your pseudocode here -->"
   ]
  },
  {
   "cell_type": "code",
   "execution_count": null,
   "metadata": {},
   "outputs": [
    {
     "name": "stdout",
     "output_type": "stream",
     "text": [
      "Odd\n"
     ]
    }
   ],
   "source": [
    "# Pseudo\n",
    "# input number\n",
    "# IF number mod 2 equals 0 THEN\n",
    "#   DISPLAY \"Even\"\n",
    "# ELSE\n",
    "#   DISPLAY \"Odd\"\n",
    "\n",
    "# Code\n",
    "# Read a number from the user\n",
    "number = int(input(\"Enter a number: \"))\n",
    "\n",
    "# Check if the number is even or odd\n",
    "if number % 2 == 0:\n",
    "    print(\"Even\")\n",
    "else:\n",
    "    print(\"Odd\")\n"
   ]
  },
  {
   "cell_type": "markdown",
   "metadata": {},
   "source": [
    "### Exercise 3: Sum of First N Natural Numbers\n",
    "\n",
    "Write pseudocode to calculate the sum of the first N natural numbers. Then, write the equivalent Python code."
   ]
  },
  {
   "cell_type": "markdown",
   "metadata": {},
   "source": [
    "<!-- Add your pseudocode here -->"
   ]
  },
  {
   "cell_type": "code",
   "execution_count": null,
   "metadata": {},
   "outputs": [
    {
     "name": "stdout",
     "output_type": "stream",
     "text": [
      "The sum of the first 9 natural numbers is: 45\n"
     ]
    }
   ],
   "source": [
    "# Pseudo\n",
    "# input N\n",
    "# SET sum = 0\n",
    "#  FOR i FROM 1 TO N DO\n",
    "#   sum = sum + i\n",
    "# DISPLAY sum\n",
    "\n",
    "# Code\n",
    "# Read N from the user\n",
    "N = int(input(\"Enter a positive integer N: \"))\n",
    "\n",
    "# Initialize sum\n",
    "total = 0\n",
    "\n",
    "# Calculate sum of first N natural numbers\n",
    "for i in range(1, N + 1):\n",
    "    total += i\n",
    "\n",
    "# Display the result\n",
    "print(\"The sum of the first\", N, \"natural numbers is:\", total)\n"
   ]
  },
  {
   "cell_type": "markdown",
   "metadata": {},
   "source": [
    "### Exercise 4: Find Maximum of Three Numbers\n",
    "\n",
    "Write pseudocode that finds the maximum of three numbers entered by the user. Then, write the equivalent Python code."
   ]
  },
  {
   "cell_type": "markdown",
   "metadata": {},
   "source": [
    "<!-- Add your pseudocode here -->"
   ]
  },
  {
   "cell_type": "code",
   "execution_count": null,
   "metadata": {},
   "outputs": [
    {
     "name": "stdout",
     "output_type": "stream",
     "text": [
      "The maximum number is: 9.0\n"
     ]
    }
   ],
   "source": [
    "# Pseudo\n",
    "# input num1\n",
    "# input num2\n",
    "# input num3\n",
    "# IF num1 > num2 AND num1 > num3 THEN\n",
    "#     max = num1\n",
    "# ELSE IF num2 > num3 THEN\n",
    "#     max = num2\n",
    "# ELSE\n",
    "#     max = num3\n",
    "# DISPLAY max\n",
    "\n",
    "# Code\n",
    "# Read three numbers from the user\n",
    "num1 = float(input(\"Enter first number: \"))\n",
    "num2 = float(input(\"Enter second number: \"))\n",
    "num3 = float(input(\"Enter third number: \"))\n",
    "\n",
    "# Find the maximum\n",
    "if num1 > num2 and num1 > num3:\n",
    "    max_num = num1\n",
    "elif num2 > num3:\n",
    "    max_num = num2\n",
    "else:\n",
    "    max_num = num3\n",
    "\n",
    "# Display the result\n",
    "print(\"The maximum number is:\", max_num)\n"
   ]
  },
  {
   "cell_type": "markdown",
   "metadata": {},
   "source": [
    "### Exercise 5: Count Vowels in a String\n",
    "\n",
    "Write pseudocode to count the number of vowels in a given string and print the count. Then, write the equivalent Python code."
   ]
  },
  {
   "cell_type": "markdown",
   "metadata": {},
   "source": [
    "<!-- Add your pseudocode here -->"
   ]
  },
  {
   "cell_type": "code",
   "execution_count": 6,
   "metadata": {},
   "outputs": [
    {
     "name": "stdout",
     "output_type": "stream",
     "text": [
      "Number of vowels in the string: 1\n"
     ]
    }
   ],
   "source": [
    "# Pseudo\n",
    "# input_string\n",
    "# SET count = 0\n",
    "# FOR each character in input_string DO\n",
    "#  IF character is a vowel THEN\n",
    "#   INCREMENT count by 1\n",
    "# # DISPLAY count\n",
    "\n",
    "# Code\n",
    "# Read a string from the user\n",
    "input_string = input(\"Enter a string: \")\n",
    "\n",
    "# Define vowels\n",
    "vowels = \"aeiouAEIOU\"\n",
    "count = 0\n",
    "\n",
    "# Count vowels\n",
    "for char in input_string:\n",
    "    if char in vowels:\n",
    "        count += 1\n",
    "\n",
    "# Display the result\n",
    "print(\"Number of vowels in the string:\", count)\n"
   ]
  },
  {
   "cell_type": "markdown",
   "metadata": {},
   "source": [
    "## Bonus Exercises\n",
    "\n",
    "### Bonus Exercise 6: Reverse a String\n",
    "\n",
    "Write pseudocode to reverse a given string and print it out."
   ]
  },
  {
   "cell_type": "markdown",
   "metadata": {},
   "source": [
    "<!-- Add your pseudocode here -->"
   ]
  },
  {
   "cell_type": "code",
   "execution_count": 7,
   "metadata": {},
   "outputs": [
    {
     "name": "stdout",
     "output_type": "stream",
     "text": [
      "Reversed string: olleH\n"
     ]
    }
   ],
   "source": [
    "# Psuedo\n",
    "# input_string\n",
    "# reversed_string = empty string\n",
    "#  FOR each character from end of input_string to start DO\n",
    "#    ADD character to reversed_string\n",
    "# DISPLAY reversed_string\n",
    "\n",
    "# code \n",
    "# Read input string from the user\n",
    "input_string = input(\"Enter a string: \")\n",
    "\n",
    "# Reverse the string\n",
    "reversed_string = input_string[::-1]\n",
    "\n",
    "# Display the result\n",
    "print(\"Reversed string:\", reversed_string)\n"
   ]
  },
  {
   "cell_type": "markdown",
   "metadata": {},
   "source": [
    "### Bonus Exercise 7: Print Multiplication Table of a Number\n",
    "\n",
    "Write pseudocode to print the multiplication table of a given number up to 10."
   ]
  },
  {
   "cell_type": "markdown",
   "metadata": {},
   "source": [
    "<!-- Add your pseudocode here -->"
   ]
  },
  {
   "cell_type": "code",
   "execution_count": 8,
   "metadata": {},
   "outputs": [
    {
     "name": "stdout",
     "output_type": "stream",
     "text": [
      "6 * 1 = 6\n",
      "6 * 2 = 12\n",
      "6 * 3 = 18\n",
      "6 * 4 = 24\n",
      "6 * 5 = 30\n",
      "6 * 6 = 36\n",
      "6 * 7 = 42\n",
      "6 * 8 = 48\n",
      "6 * 9 = 54\n",
      "6 * 10 = 60\n"
     ]
    }
   ],
   "source": [
    "# Pseudo\n",
    "# READ number\n",
    "# FOR i FROM 1 TO 10 DO\n",
    "#   product = number * i\n",
    "# DISPLAY number, \"*\", i, \"=\", product\n",
    "\n",
    "# Code\n",
    "# Read a number from the user\n",
    "number = int(input(\"Enter a number: \"))\n",
    "\n",
    "# Print multiplication table up to 10\n",
    "for i in range(1, 11):\n",
    "    print(f\"{number} * {i} = {number * i}\")\n"
   ]
  },
  {
   "cell_type": "markdown",
   "metadata": {},
   "source": [
    "### Bonus Exercise 8: Count Words in a String\n",
    "\n",
    "Write pseudocode that counts the words in a given string and prints the result."
   ]
  },
  {
   "cell_type": "markdown",
   "metadata": {},
   "source": [
    "<!-- Add your pseudocode here -->"
   ]
  },
  {
   "cell_type": "code",
   "execution_count": null,
   "metadata": {},
   "outputs": [
    {
     "name": "stdout",
     "output_type": "stream",
     "text": [
      "Number of words: 4\n"
     ]
    }
   ],
   "source": [
    "# Pseudo\n",
    "# input input_string\n",
    "# SPLIT input_string into words\n",
    "# COUNT number of words\n",
    "# DISPLAY the count\n",
    "\n",
    "# Code\n",
    "# Read a string from the user\n",
    "input_string = input(\"Enter a string: \")\n",
    "\n",
    "# Split the string into words\n",
    "words = input_string.split()\n",
    "\n",
    "# Count the number of words\n",
    "word_count = len(words)\n",
    "\n",
    "# Print the result\n",
    "print(\"Number of words:\", word_count)\n",
    "\n"
   ]
  },
  {
   "cell_type": "markdown",
   "metadata": {},
   "source": [
    "### Bonus Exercise 9: Find Factorial of a Number\n",
    "\n",
    "Write pseudocode that calculates the factorial of a given positive integer."
   ]
  },
  {
   "cell_type": "markdown",
   "metadata": {},
   "source": [
    "<!-- Add your pseudocode here -->"
   ]
  },
  {
   "cell_type": "code",
   "execution_count": 11,
   "metadata": {},
   "outputs": [
    {
     "name": "stdout",
     "output_type": "stream",
     "text": [
      "Factorial: 25852016738884976640000\n"
     ]
    }
   ],
   "source": [
    "# Pseudo\n",
    "# input number\n",
    "# SET factorial = 1\n",
    "# FOR i FROM 1 TO number\n",
    "#  factorial = factorial * i\n",
    "# PRINT factorial\n",
    "\n",
    "# Code\n",
    "number = int(input(\"Enter a positive integer: \"))\n",
    "factorial = 1\n",
    "\n",
    "for i in range(1, number + 1):\n",
    "    factorial *= i\n",
    "\n",
    "print(\"Factorial:\", factorial)\n"
   ]
  },
  {
   "cell_type": "markdown",
   "metadata": {},
   "source": [
    "### Bonus Exercise 10: FizzBuzz Problem\n",
    "\n",
    "Write pseudocode for the FizzBuzz problem where you print numbers from 1 to N but replace multiples of three with \"Fizz\" and multiples of five with \"Buzz\"."
   ]
  },
  {
   "cell_type": "markdown",
   "metadata": {},
   "source": [
    "<!-- Add your pseudocode here -->"
   ]
  },
  {
   "cell_type": "code",
   "execution_count": 12,
   "metadata": {},
   "outputs": [
    {
     "name": "stdout",
     "output_type": "stream",
     "text": [
      "1\n",
      "2\n",
      "Fizz\n",
      "4\n",
      "Buzz\n",
      "Fizz\n",
      "7\n"
     ]
    }
   ],
   "source": [
    "# Pseudo\n",
    "# READ N\n",
    "# FOR i FROM 1 TO N\n",
    "#   IF i MOD 15 == 0 THEN\n",
    "#     PRINT \"FizzBuzz\"\n",
    "#   ELSE IF i MOD 3 == 0 THEN\n",
    "#     PRINT \"Fizz\"\n",
    "#   ELSE IF i MOD 5 == 0 THEN\n",
    "#     PRINT \"Buzz\"\n",
    "#   ELSE\n",
    "#     PRINT i\n",
    "\n",
    "# Code\n",
    "N = int(input(\"Enter the value of N: \"))\n",
    "\n",
    "for i in range(1, N + 1):\n",
    "    if i % 15 == 0:\n",
    "        print(\"FizzBuzz\")\n",
    "    elif i % 3 == 0:\n",
    "        print(\"Fizz\")\n",
    "    elif i % 5 == 0:\n",
    "        print(\"Buzz\")\n",
    "    else:\n",
    "        print(i)\n"
   ]
  }
 ],
 "metadata": {
  "kernelspec": {
   "display_name": "base",
   "language": "python",
   "name": "python3"
  },
  "language_info": {
   "codemirror_mode": {
    "name": "ipython",
    "version": 3
   },
   "file_extension": ".py",
   "mimetype": "text/x-python",
   "name": "python",
   "nbconvert_exporter": "python",
   "pygments_lexer": "ipython3",
   "version": "3.13.5"
  }
 },
 "nbformat": 4,
 "nbformat_minor": 2
}
